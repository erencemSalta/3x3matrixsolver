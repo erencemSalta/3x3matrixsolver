{
 "cells": [
  {
   "cell_type": "code",
   "execution_count": 3,
   "metadata": {},
   "outputs": [],
   "source": [
    "import numpy as np\n",
    "import matplotlib.pyplot as plt\n",
    "import scipy.linalg as la\n",
    "%matplotlib inline"
   ]
  },
  {
   "cell_type": "code",
   "execution_count": 4,
   "metadata": {},
   "outputs": [],
   "source": [
    "def add_row(A,k,i,j):\n",
    "    \"Add k times row j to row i in matrix A.\"\n",
    "    n = A.shape[0]\n",
    "    E = np.eye(n)\n",
    "    if i == j:\n",
    "        E[i,i] = k + 1\n",
    "    else:\n",
    "        E[i,j] = k\n",
    "    return E @ A"
   ]
  },
  {
   "cell_type": "code",
   "execution_count": 5,
   "metadata": {},
   "outputs": [],
   "source": [
    "def scale_row(A,k,i):\n",
    "    \"Multiply row i by k in matrix A.\"\n",
    "    n = A.shape[0]\n",
    "    E = np.eye(n)\n",
    "    E[i,i] = k\n",
    "    return E @ A"
   ]
  },
  {
   "cell_type": "code",
   "execution_count": 6,
   "metadata": {},
   "outputs": [],
   "source": [
    "def switch_rows(A,i,j):\n",
    "    \"Switch rows i and j in matrix A.\"\n",
    "    n = A.shape[0]\n",
    "    E = np.eye(n)\n",
    "    E[i,i] = 0\n",
    "    E[j,j] = 0\n",
    "    E[i,j] = 1\n",
    "    E[j,i] = 1\n",
    "    return E @ A"
   ]
  },
  {
   "cell_type": "code",
   "execution_count": 11,
   "metadata": {},
   "outputs": [],
   "source": [
    "K = np.array([[1, 2, -1], [2, -1, -1], [3, -4, -1]])"
   ]
  },
  {
   "cell_type": "code",
   "execution_count": 15,
   "metadata": {},
   "outputs": [],
   "source": [
    "n = np.array([[8], [5], [2]])"
   ]
  },
  {
   "cell_type": "code",
   "execution_count": 22,
   "metadata": {},
   "outputs": [
    {
     "name": "stdout",
     "output_type": "stream",
     "text": [
      "[[ 1  2 -1  8]\n",
      " [ 2 -1 -1  5]\n",
      " [ 3 -4 -1  2]]\n"
     ]
    }
   ],
   "source": [
    "L = np.hstack([K, n])\n",
    "print(L)"
   ]
  },
  {
   "cell_type": "code",
   "execution_count": 61,
   "metadata": {},
   "outputs": [
    {
     "name": "stdout",
     "output_type": "stream",
     "text": [
      "[[ 1 -1 -1  5]\n",
      " [ 1  1  1  1]\n",
      " [ 5 -1  2 17]]\n"
     ]
    }
   ],
   "source": [
    "U = np.array([[1, -1, -1, 5], [1, 1, 1, 1], [5, -1, 2, 17]])\n",
    "print(U)"
   ]
  },
  {
   "cell_type": "code",
   "execution_count": 70,
   "metadata": {},
   "outputs": [],
   "source": [
    "def solveMatrix(M):\n",
    "    if M[0, 0] > 0:\n",
    "        M1 = scale_row(M, 1/M[0, 0], 0)\n",
    "        M2 = add_row(M1, -M[1, 0], 1, 0)\n",
    "        M3 = add_row(M2, -M[2, 0], 2, 0)\n",
    "        M4 = add_row(M3, -(M3[2, 1]/M3[1, 1]), 2, 1)\n",
    "        print(M4)\n",
    "        if M4[2,3] == 0:\n",
    "            z = 0\n",
    "            y = (M4[1, 3]-(M4[1, 2] * z)) / M4[1, 1]\n",
    "            x = (M4[0, 3]-((M4[0, 1]* y) + (M4[0, 2] * z))/ M4[0,0]\n",
    "            return (x, y, z)\n",
    "        z = M4[2,3] / M4[2, 2]\n",
    "        y = M4[1, 3]-(M4[1, 2] * z) / M4[1, 1]\n",
    "        x = M4[0, 3]-((M4[0, 1]* y) + (M4[0, 2] * z))/ M4[0,0]\n",
    "    return (x, y, z)"
   ]
  },
  {
   "cell_type": "code",
   "execution_count": 72,
   "metadata": {},
   "outputs": [
    {
     "name": "stdout",
     "output_type": "stream",
     "text": [
      "[[  1.   2.  -1.   8.]\n",
      " [  0.  -5.   1. -11.]\n",
      " [  0.   0.   0.   0.]]\n"
     ]
    },
    {
     "data": {
      "text/plain": [
       "(3.5999999999999996, 2.2, 0)"
      ]
     },
     "execution_count": 72,
     "metadata": {},
     "output_type": "execute_result"
    }
   ],
   "source": [
    "solveMatrix(L)"
   ]
  },
  {
   "cell_type": "code",
   "execution_count": null,
   "metadata": {},
   "outputs": [],
   "source": []
  }
 ],
 "metadata": {
  "kernelspec": {
   "display_name": "Python 3",
   "language": "python",
   "name": "python3"
  },
  "language_info": {
   "codemirror_mode": {
    "name": "ipython",
    "version": 3
   },
   "file_extension": ".py",
   "mimetype": "text/x-python",
   "name": "python",
   "nbconvert_exporter": "python",
   "pygments_lexer": "ipython3",
   "version": "3.8.3"
  }
 },
 "nbformat": 4,
 "nbformat_minor": 4
}
